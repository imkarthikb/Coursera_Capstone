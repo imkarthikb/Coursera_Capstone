{
 "cells": [
  {
   "cell_type": "markdown",
   "id": "fba99f83-3231-4332-a110-faf4632c49c0",
   "metadata": {},
   "source": [
    "# Data Science Coursera Capstone\n",
    "\n",
    "##### The notebook is mainly used for the capstone project."
   ]
  },
  {
   "cell_type": "code",
   "execution_count": 2,
   "id": "54acc7a8-6ac3-41d4-b62b-9465332f5830",
   "metadata": {},
   "outputs": [],
   "source": [
    "import pandas as pd\n",
    "import numpy as np"
   ]
  },
  {
   "cell_type": "code",
   "execution_count": 4,
   "id": "4d63c280-7ae0-4d19-847e-93c7b2c2bf28",
   "metadata": {},
   "outputs": [
    {
     "name": "stdout",
     "output_type": "stream",
     "text": [
      "Hello Capstone Project Course!\n"
     ]
    }
   ],
   "source": [
    "print('Hello Capstone Project Course!')"
   ]
  },
  {
   "cell_type": "code",
   "execution_count": null,
   "id": "e98d100b-b12c-4a0c-993b-c29b95c5e45e",
   "metadata": {},
   "outputs": [],
   "source": []
  }
 ],
 "metadata": {
  "kernelspec": {
   "display_name": "Python 3",
   "language": "python",
   "name": "python3"
  },
  "language_info": {
   "codemirror_mode": {
    "name": "ipython",
    "version": 3
   },
   "file_extension": ".py",
   "mimetype": "text/x-python",
   "name": "python",
   "nbconvert_exporter": "python",
   "pygments_lexer": "ipython3",
   "version": "3.9.5"
  }
 },
 "nbformat": 4,
 "nbformat_minor": 5
}
